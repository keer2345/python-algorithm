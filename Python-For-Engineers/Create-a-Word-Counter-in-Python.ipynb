{
 "cells": [
  {
   "cell_type": "markdown",
   "metadata": {},
   "source": [
    "# 计算字数和行数"
   ]
  },
  {
   "cell_type": "code",
   "execution_count": 1,
   "metadata": {},
   "outputs": [],
   "source": [
    "#! /usr/bin/python\n",
    " \n",
    "f = open(\"README.md\", \"r\")\n",
    "data = f.read()\n",
    "f.close()"
   ]
  },
  {
   "cell_type": "code",
   "execution_count": 2,
   "metadata": {},
   "outputs": [
    {
     "name": "stdout",
     "output_type": "stream",
     "text": [
      "['**[An', 'introduction', 'to', 'Numpy', 'and', 'Matplotlib](https://www.pythonforengineers.com/an-introduction-to-numpy-and-matplotlib/)**\\n\\n-', '[Python', 'for', 'Scientists', 'and', 'Engineers](https://www.pythonforengineers.com/python-for-scientists-and-engineers/)\\n-', '[Installing', 'the', 'libraries', 'required', 'for', 'the', 'book](https://www.pythonforengineers.com/installing-the-libraries-required-for-the-book/)']\n"
     ]
    }
   ],
   "source": [
    "words = data.split(\" \")\n",
    "print(words)"
   ]
  },
  {
   "cell_type": "code",
   "execution_count": 3,
   "metadata": {},
   "outputs": [
    {
     "name": "stdout",
     "output_type": "stream",
     "text": [
      "['**[An introduction to Numpy and Matplotlib](https://www.pythonforengineers.com/an-introduction-to-numpy-and-matplotlib/)**', '', '- [Python for Scientists and Engineers](https://www.pythonforengineers.com/python-for-scientists-and-engineers/)', '- [Installing the libraries required for the book](https://www.pythonforengineers.com/installing-the-libraries-required-for-the-book/)']\n"
     ]
    }
   ],
   "source": [
    "lines = data.split(\"\\n\")\n",
    "print(lines)"
   ]
  },
  {
   "cell_type": "code",
   "execution_count": null,
   "metadata": {},
   "outputs": [],
   "source": []
  }
 ],
 "metadata": {
  "kernelspec": {
   "display_name": "Python 3",
   "language": "python",
   "name": "python3"
  },
  "language_info": {
   "codemirror_mode": {
    "name": "ipython",
    "version": 3
   },
   "file_extension": ".py",
   "mimetype": "text/x-python",
   "name": "python",
   "nbconvert_exporter": "python",
   "pygments_lexer": "ipython3",
   "version": "3.8.5"
  }
 },
 "nbformat": 4,
 "nbformat_minor": 4
}
