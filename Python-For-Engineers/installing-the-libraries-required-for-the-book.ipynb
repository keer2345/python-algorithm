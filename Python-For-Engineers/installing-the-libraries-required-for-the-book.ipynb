{
 "cells": [
  {
   "cell_type": "markdown",
   "metadata": {},
   "source": [
    "推荐安装 [Anaconda Python](https://www.continuum.io/downloads)，它包含了我们所需要的 99% 的库。\n",
    "\n",
    "我们只需要再安装 OpenCV3：\n",
    "\n",
    "```\n",
    "pip install opencv_python\n",
    "```"
   ]
  }
 ],
 "metadata": {
  "kernelspec": {
   "display_name": "Python 3",
   "language": "python",
   "name": "python3"
  },
  "language_info": {
   "codemirror_mode": {
    "name": "ipython",
    "version": 3
   },
   "file_extension": ".py",
   "mimetype": "text/x-python",
   "name": "python",
   "nbconvert_exporter": "python",
   "pygments_lexer": "ipython3",
   "version": "3.8.5"
  }
 },
 "nbformat": 4,
 "nbformat_minor": 4
}
