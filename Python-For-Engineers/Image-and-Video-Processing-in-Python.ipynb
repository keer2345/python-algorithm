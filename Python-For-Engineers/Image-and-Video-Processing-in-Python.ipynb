{
 "cells": [
  {
   "cell_type": "markdown",
   "metadata": {},
   "source": [
    "**[图像和音频处理](https://www.pythonforengineers.com/image-and-video-processing-in-python/）**\n",
    "\n",
    "# 浏览图像"
   ]
  },
  {
   "cell_type": "code",
   "execution_count": null,
   "metadata": {},
   "outputs": [],
   "source": [
    "import cv2\n",
    "import sys\n",
    "\n",
    "# image = cv2.imread(sys.argv[1])\n",
    "image = cv2.imread(\"ship.jpg\")\n",
    "\n",
    "cv2.imshow(\"Image\", image)\n",
    "cv2.waitKey(0)"
   ]
  },
  {
   "cell_type": "markdown",
   "metadata": {},
   "source": [
    "![](https://www.pythonforengineers.com/wp-content/uploads/2017/04/image1.png)"
   ]
  },
  {
   "cell_type": "markdown",
   "metadata": {},
   "source": [
    "# 模糊和灰度"
   ]
  },
  {
   "cell_type": "code",
   "execution_count": null,
   "metadata": {},
   "outputs": [],
   "source": [
    "import cv2\n",
    "import sys\n",
    "\n",
    "# image = cv2.imread(sys.argv[1])\n",
    "image = cv2.imread(\"ship.jpg\")\n",
    "\n",
    "gray_image = cv2.cvtColor(image, cv2.COLOR_BGR2GRAY)\n",
    "blurred_image = cv2.GaussianBlur(image, (7,7), 0)\n",
    "\n",
    "# Show all 3 images\n",
    "cv2.imshow(\"Original Image\", image)\n",
    "cv2.imshow(\"Gray Image\", gray_image)\n",
    "cv2.imshow(\"Blurred Image\", blurred_image)\n",
    "\n",
    "cv2.waitKey(0)"
   ]
  },
  {
   "cell_type": "markdown",
   "metadata": {},
   "source": [
    "![](https://www.pythonforengineers.com/wp-content/uploads/2017/04/image2-768x209.png)\n",
    "\n",
    "# 边缘探测\n",
    "边缘探测非常有用，探测图像颜色和亮度的过度来探测边缘。\n",
    "\n",
    "我们不需要了解算法是如何工作的，真有兴趣的话也可以阅读：\n",
    "\n",
    "- http://en.wikipedia.org/wiki/Edge_detection\n",
    "- http://en.wikipedia.org/wiki/Canny_edge_detector"
   ]
  },
  {
   "cell_type": "code",
   "execution_count": null,
   "metadata": {},
   "outputs": [],
   "source": [
    "import cv2\n",
    "import sys\n",
    " \n",
    "# The first argument is the image\n",
    "image = cv2.imread(\"ship.jpg\")\n",
    " \n",
    "#convert to grayscale\n",
    "gray_image = cv2.cvtColor(image, cv2.COLOR_BGR2GRAY)\n",
    " \n",
    "#blur it\n",
    "blurred_image = cv2.GaussianBlur(gray_image, (7,7), 0)\n",
    " \n",
    "cv2.imshow(\"Orignal Image\", image)\n",
    "\n",
    "canny = cv2.Canny(blurred_image, 10, 30)\n",
    "cv2.imshow(\"Canny with low thresholds\", canny)\n",
    "\n",
    "canny2 = cv2.Canny(blurred_image, 50, 150)\n",
    "cv2.imshow(\"Canny with high thresholds\", canny2)\n",
    "\n",
    "cv2.waitKey(0)"
   ]
  },
  {
   "cell_type": "markdown",
   "metadata": {},
   "source": [
    "这段代码和前面的很相似，我们使用了 `Canny()` 函数，它包含三个参数：图像、上限和下限。*Canny* 通过寻找不同的像素强度来探测边界。\n",
    "\n",
    "![](https://www.pythonforengineers.com/wp-content/uploads/2017/04/image3-768x210.png)\n",
    "\n",
    "最左边是原始图像。中间是低阀值的，我们可以看到它探测了很多边界。右边是高阀值的，它并没有探测不需要的大海边界，但这样也无法探测到轮船的窗口了。\n",
    "\n",
    "所以，我们该如何选择阀值？这就是本节要讲的知识点了。\n",
    "\n",
    "# 计算对象\n",
    "\n",
    "OK，我们已经可以探测对象的边界，我们来实现更有用的例子吧：\n",
    "\n",
    "我们从模糊图像转探测出边界图像：\n",
    "\n",
    "![](https://www.pythonforengineers.com/wp-content/uploads/2017/04/image4.jpg)\n",
    "\n",
    "![](https://www.pythonforengineers.com/wp-content/uploads/2017/04/image5.jpg)"
   ]
  },
  {
   "cell_type": "code",
   "execution_count": null,
   "metadata": {},
   "outputs": [],
   "source": [
    "import cv2\n",
    "import sys\n",
    "\n",
    "image = cv2.imread(\"window.jpg\")\n",
    "\n",
    "cv2.imshow(\"Original image\", image)\n",
    "\n",
    "cv2.waitKey(0)"
   ]
  },
  {
   "cell_type": "markdown",
   "metadata": {},
   "source": [
    "我们需要找出边界的轮廓，下面的代码以编程的方式找到边界：\n",
    "\n",
    "```python\n",
    "im, contours, hierarchy = cv2.findContours(\n",
    "    canny, cv2.RETR_EXTERNAL, cv2.CHAIN_APPROX_SIMPLE)\n",
    "```\n",
    "\n",
    "函数 `findContours()` 找出图形的轮廓：\n",
    "- *RETR_EXTERNAL* 告诉 OpenCV 只找出最外层的边界，\n",
    "- *CHAIN_APPROX_SIMPLE* 告诉 OpenCV 使用简单的近似值。\n",
    "\n",
    "函数返回三个值：图像、找到的轮廓列表、和等级（如果有嵌入轮廓才会用到等级，一般可以忽略）。\n",
    "\n",
    "\n"
   ]
  },
  {
   "cell_type": "code",
   "execution_count": 1,
   "metadata": {},
   "outputs": [
    {
     "ename": "ValueError",
     "evalue": "not enough values to unpack (expected 3, got 2)",
     "output_type": "error",
     "traceback": [
      "\u001b[0;31m---------------------------------------------------------------------------\u001b[0m",
      "\u001b[0;31mValueError\u001b[0m                                Traceback (most recent call last)",
      "\u001b[0;32m<ipython-input-1-8495b3a286ba>\u001b[0m in \u001b[0;36m<module>\u001b[0;34m\u001b[0m\n\u001b[1;32m     19\u001b[0m \u001b[0;34m\u001b[0m\u001b[0m\n\u001b[1;32m     20\u001b[0m \u001b[0;34m\u001b[0m\u001b[0m\n\u001b[0;32m---> 21\u001b[0;31m im, contours, hierarchy = cv2.findContours(\n\u001b[0m\u001b[1;32m     22\u001b[0m     canny, cv2.RETR_EXTERNAL, cv2.CHAIN_APPROX_SIMPLE)\n\u001b[1;32m     23\u001b[0m \u001b[0;34m\u001b[0m\u001b[0m\n",
      "\u001b[0;31mValueError\u001b[0m: not enough values to unpack (expected 3, got 2)"
     ]
    }
   ],
   "source": [
    "import cv2\n",
    "import sys\n",
    "\n",
    "image = cv2.imread(\"window.jpg\")\n",
    "\n",
    "# convert to grayscale\n",
    "gray_image = cv2.cvtColor(image, cv2.COLOR_BGR2GRAY)\n",
    "\n",
    "# blur it\n",
    "blurred_image = cv2.GaussianBlur(gray_image, (7, 7), 0)\n",
    "\n",
    "# Show both our images\n",
    "cv2.imshow(\"Original image\", image)\n",
    "cv2.imshow(\"Blurred image\", blurred_image)\n",
    "\n",
    "# Run the Canny edge detector\n",
    "canny = cv2.Canny(blurred_image, 30, 100)\n",
    "cv2.imshow(\"Canny\", canny)\n",
    "\n",
    "\n",
    "im, contours, hierarchy = cv2.findContours(\n",
    "    canny, cv2.RETR_EXTERNAL, cv2.CHAIN_APPROX_SIMPLE)\n",
    "\n",
    "print(\"Number of objects found = \", len(contours))\n",
    "\n",
    "cv2.drawContours(image, contours, -1, (0, 255, 0), 2)\n",
    "cv2.imshow(\"objects Found\", image)\n",
    "\n",
    "cv2.waitKey(0)"
   ]
  },
  {
   "cell_type": "code",
   "execution_count": null,
   "metadata": {},
   "outputs": [],
   "source": []
  },
  {
   "cell_type": "code",
   "execution_count": null,
   "metadata": {},
   "outputs": [],
   "source": []
  },
  {
   "cell_type": "code",
   "execution_count": null,
   "metadata": {},
   "outputs": [],
   "source": []
  }
 ],
 "metadata": {
  "kernelspec": {
   "display_name": "Python 3",
   "language": "python",
   "name": "python3"
  },
  "language_info": {
   "codemirror_mode": {
    "name": "ipython",
    "version": 3
   },
   "file_extension": ".py",
   "mimetype": "text/x-python",
   "name": "python",
   "nbconvert_exporter": "python",
   "pygments_lexer": "ipython3",
   "version": "3.8.5"
  }
 },
 "nbformat": 4,
 "nbformat_minor": 4
}
